{
 "cells": [
  {
   "cell_type": "markdown",
   "id": "ceb8f10b",
   "metadata": {},
   "source": [
    "# Program to Find Given number is Positive,Negative or Zero"
   ]
  },
  {
   "cell_type": "code",
   "execution_count": 9,
   "id": "7700cc14",
   "metadata": {},
   "outputs": [
    {
     "name": "stdout",
     "output_type": "stream",
     "text": [
      "Enter the Value: 0\n",
      "0.0 no is Zero\n"
     ]
    }
   ],
   "source": [
    "#input from user\n",
    "num=float(input(\"Enter the Value: \"))\n",
    "\n",
    "if num > 0:\n",
    "    print(\"{} no is Positive\".format(num))\n",
    "elif num==0:\n",
    "    print(\"{} no is Zero\".format(num))\n",
    "else:\n",
    "    print(\"{} no is Negative\".format(num))"
   ]
  }
 ],
 "metadata": {
  "kernelspec": {
   "display_name": "Python 3 (ipykernel)",
   "language": "python",
   "name": "python3"
  },
  "language_info": {
   "codemirror_mode": {
    "name": "ipython",
    "version": 3
   },
   "file_extension": ".py",
   "mimetype": "text/x-python",
   "name": "python",
   "nbconvert_exporter": "python",
   "pygments_lexer": "ipython3",
   "version": "3.9.7"
  }
 },
 "nbformat": 4,
 "nbformat_minor": 5
}
