{
 "cells": [
  {
   "cell_type": "markdown",
   "id": "b3c725ce",
   "metadata": {},
   "source": [
    "# find square root of number "
   ]
  },
  {
   "cell_type": "code",
   "execution_count": 5,
   "id": "84990cae",
   "metadata": {},
   "outputs": [
    {
     "name": "stdout",
     "output_type": "stream",
     "text": [
      "Enter the Number: 7\n",
      "Square root : 2.6457513110645907\n"
     ]
    }
   ],
   "source": [
    "#input from user\n",
    "num=int(input(\"Enter the Number: \"))\n",
    "\n",
    "square_root=num**0.5\n",
    "\n",
    "print(\"Square root : {}\".format(square_root))"
   ]
  }
 ],
 "metadata": {
  "kernelspec": {
   "display_name": "Python 3 (ipykernel)",
   "language": "python",
   "name": "python3"
  },
  "language_info": {
   "codemirror_mode": {
    "name": "ipython",
    "version": 3
   },
   "file_extension": ".py",
   "mimetype": "text/x-python",
   "name": "python",
   "nbconvert_exporter": "python",
   "pygments_lexer": "ipython3",
   "version": "3.9.7"
  }
 },
 "nbformat": 4,
 "nbformat_minor": 5
}
