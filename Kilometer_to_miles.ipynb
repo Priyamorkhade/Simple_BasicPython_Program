{
 "cells": [
  {
   "cell_type": "markdown",
   "id": "9c5935f6",
   "metadata": {},
   "source": [
    "# Conversion of Kilometer to miles"
   ]
  },
  {
   "cell_type": "code",
   "execution_count": 5,
   "id": "fd056e3b",
   "metadata": {},
   "outputs": [
    {
     "name": "stdout",
     "output_type": "stream",
     "text": [
      "Enter Value in kilometers: 1\n",
      "1.0 kilometer is equal to 0.621371 miles\n"
     ]
    }
   ],
   "source": [
    "\n",
    "km=float(input(\"Enter Value in kilometers: \"))\n",
    "\n",
    "conv_fac=0.621371\n",
    "\n",
    "#calculate miles\n",
    "miles=km*conv_fac\n",
    "\n",
    "print(\"{} kilometer is equal to {} miles\".format(km,miles))"
   ]
  }
 ],
 "metadata": {
  "kernelspec": {
   "display_name": "Python 3 (ipykernel)",
   "language": "python",
   "name": "python3"
  },
  "language_info": {
   "codemirror_mode": {
    "name": "ipython",
    "version": 3
   },
   "file_extension": ".py",
   "mimetype": "text/x-python",
   "name": "python",
   "nbconvert_exporter": "python",
   "pygments_lexer": "ipython3",
   "version": "3.9.7"
  }
 },
 "nbformat": 4,
 "nbformat_minor": 5
}
