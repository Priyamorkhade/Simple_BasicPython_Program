{
 "cells": [
  {
   "cell_type": "markdown",
   "id": "01eedd59",
   "metadata": {},
   "source": [
    "# Program to find out area of triangle"
   ]
  },
  {
   "cell_type": "code",
   "execution_count": 1,
   "id": "21e2ae0b",
   "metadata": {},
   "outputs": [
    {
     "name": "stdout",
     "output_type": "stream",
     "text": [
      "The area of the triangle is :  20.33316256758894\n"
     ]
    }
   ],
   "source": [
    "#sides of triangle\n",
    "a=6\n",
    "b=7\n",
    "c=8\n",
    "#semi parameter formula\n",
    "s=(a+b+c)/2\n",
    "#calculate area\n",
    "area=(s*(s-a)*(s-b)*(s-c))**0.5\n",
    "\n",
    "print(\"The area of the triangle is : \",area)"
   ]
  }
 ],
 "metadata": {
  "kernelspec": {
   "display_name": "Python 3 (ipykernel)",
   "language": "python",
   "name": "python3"
  },
  "language_info": {
   "codemirror_mode": {
    "name": "ipython",
    "version": 3
   },
   "file_extension": ".py",
   "mimetype": "text/x-python",
   "name": "python",
   "nbconvert_exporter": "python",
   "pygments_lexer": "ipython3",
   "version": "3.9.7"
  }
 },
 "nbformat": 4,
 "nbformat_minor": 5
}
