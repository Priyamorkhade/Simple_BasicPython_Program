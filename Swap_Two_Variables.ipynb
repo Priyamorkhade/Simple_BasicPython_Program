{
 "cells": [
  {
   "cell_type": "markdown",
   "id": "13c8c929",
   "metadata": {},
   "source": [
    "###Program to swap two variables"
   ]
  },
  {
   "cell_type": "code",
   "execution_count": 14,
   "id": "62ce3fd1",
   "metadata": {},
   "outputs": [
    {
     "name": "stdout",
     "output_type": "stream",
     "text": [
      "Enter First Value: 34\n",
      "Enter Second Value: 54\n",
      "The value of a after swaping: 54 \n",
      "The value of b after swaping: 34 \n"
     ]
    }
   ],
   "source": [
    "a=int(input(\"Enter First Value: \"))\n",
    "b=int(input(\"Enter Second Value: \"))\n",
    "\n",
    "temp=a\n",
    "a=b\n",
    "b=temp\n",
    "\n",
    "print(\"The value of a after swaping: {} \".format(a))\n",
    "print(\"The value of b after swaping: {} \".format(b))"
   ]
  },
  {
   "cell_type": "code",
   "execution_count": null,
   "id": "981a3289",
   "metadata": {},
   "outputs": [],
   "source": [
    "#Method 2"
   ]
  },
  {
   "cell_type": "code",
   "execution_count": 16,
   "id": "264e8297",
   "metadata": {},
   "outputs": [
    {
     "name": "stdout",
     "output_type": "stream",
     "text": [
      "The value of a after swaping: 54 \n",
      "The value of b after swaping: 34 \n"
     ]
    }
   ],
   "source": [
    "\n",
    "a,b=b,a\n",
    "\n",
    "print(\"The value of a after swaping: {} \".format(a))\n",
    "\n",
    "print(\"The value of b after swaping: {} \".format(b))"
   ]
  },
  {
   "cell_type": "code",
   "execution_count": null,
   "id": "205aff37",
   "metadata": {},
   "outputs": [],
   "source": []
  }
 ],
 "metadata": {
  "kernelspec": {
   "display_name": "Python 3 (ipykernel)",
   "language": "python",
   "name": "python3"
  },
  "language_info": {
   "codemirror_mode": {
    "name": "ipython",
    "version": 3
   },
   "file_extension": ".py",
   "mimetype": "text/x-python",
   "name": "python",
   "nbconvert_exporter": "python",
   "pygments_lexer": "ipython3",
   "version": "3.9.7"
  }
 },
 "nbformat": 4,
 "nbformat_minor": 5
}
