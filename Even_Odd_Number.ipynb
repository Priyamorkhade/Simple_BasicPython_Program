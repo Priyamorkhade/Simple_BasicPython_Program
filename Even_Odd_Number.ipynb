{
 "cells": [
  {
   "cell_type": "markdown",
   "id": "72342be3",
   "metadata": {},
   "source": [
    "### Program for Check given number is Even or Odd"
   ]
  },
  {
   "cell_type": "code",
   "execution_count": 4,
   "id": "2bfd64d1",
   "metadata": {},
   "outputs": [
    {
     "name": "stdout",
     "output_type": "stream",
     "text": [
      "Enter the number: 67\n",
      "67 is Odd Number.\n"
     ]
    }
   ],
   "source": [
    "#input from user\n",
    "num=int(input(\"Enter the number: \"))\n",
    "\n",
    "if(num%2)==0:\n",
    "    print(\"{} is Even Number.\".format(num))\n",
    "else:\n",
    "    print(\"{} is Odd Number.\".format(num))"
   ]
  }
 ],
 "metadata": {
  "kernelspec": {
   "display_name": "Python 3 (ipykernel)",
   "language": "python",
   "name": "python3"
  },
  "language_info": {
   "codemirror_mode": {
    "name": "ipython",
    "version": 3
   },
   "file_extension": ".py",
   "mimetype": "text/x-python",
   "name": "python",
   "nbconvert_exporter": "python",
   "pygments_lexer": "ipython3",
   "version": "3.9.7"
  }
 },
 "nbformat": 4,
 "nbformat_minor": 5
}
